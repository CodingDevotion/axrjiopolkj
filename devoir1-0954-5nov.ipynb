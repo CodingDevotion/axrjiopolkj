{
 "cells": [
  {
   "cell_type": "markdown",
   "metadata": {},
   "source": [
    "# Travail 1\n",
    "\n",
    "### Dans le cadre du cours IFT3700 - Science des données\n",
    "\n",
    "Effectué par <br> Alexandre Chartrand,<br> Lauranne Deaudelin, <br> Amélie Lacombe Robillard, et <br> Stéphane Verville-Vohl"
   ]
  },
  {
   "cell_type": "markdown",
   "metadata": {},
   "source": [
    "## Libraires à installer \n",
    "Il faut s'arrurer que la librairie pyclustering est installée.  \n",
    "https://pypi.org/project/pyclustering/0.8.0/  \n",
    "\n",
    "Vous n'avez qu'à décommenter pour installer la librairie"
   ]
  },
  {
   "cell_type": "code",
   "execution_count": 2,
   "metadata": {},
   "outputs": [],
   "source": [
    "#!pip install pyclustering"
   ]
  },
  {
   "cell_type": "markdown",
   "metadata": {},
   "source": [
    "## Import libraries"
   ]
  },
  {
   "cell_type": "code",
   "execution_count": 3,
   "metadata": {},
   "outputs": [],
   "source": [
    "import numpy as np\n",
    "import pylab\n",
    "import matplotlib.pyplot as plt\n",
    "import csv\n",
    "\n",
    "%matplotlib inline"
   ]
  },
  {
   "cell_type": "markdown",
   "metadata": {},
   "source": [
    "## Import data"
   ]
  },
  {
   "cell_type": "code",
   "execution_count": 4,
   "metadata": {},
   "outputs": [],
   "source": [
    "TRAINING_SIZE = 50\n",
    "TEST_SIZE = 25\n",
    "\n",
    "def extract_data(dataset, size):\n",
    "    data = open(dataset)\n",
    "    reader = csv.reader(data)\n",
    "    data_points = []\n",
    "    count = 0\n",
    "    for row in reader:\n",
    "        if count == 0:\n",
    "            count += 1\n",
    "            continue\n",
    "        elif count <= size:\n",
    "            data_points.append(row)\n",
    "            count += 1\n",
    "        else:\n",
    "            break\n",
    "    data.close()\n",
    "\n",
    "    # Convert data in numpy array, with int type\n",
    "    ndarray_dataset = np.array(data_points).astype(int)\n",
    "    \n",
    "    # Data input\n",
    "    inputs = ndarray_dataset[:,1:]\n",
    "    # Target vector (label vector)\n",
    "    targets = ndarray_dataset[:,0]\n",
    "    \n",
    "    return (inputs, targets)\n",
    "\n",
    "training_data = extract_data('mnist_train.csv', TRAINING_SIZE)\n",
    "training_inputs = training_data[0]\n",
    "training_targets = training_data[1]\n",
    "\n",
    "test_data = extract_data('mnist_test.csv', TEST_SIZE)\n",
    "test_inputs = test_data[0]\n",
    "test_targets = test_data[1]"
   ]
  },
  {
   "cell_type": "markdown",
   "metadata": {},
   "source": [
    "## Custom Similarity Measure"
   ]
  },
  {
   "cell_type": "code",
   "execution_count": 5,
   "metadata": {},
   "outputs": [],
   "source": [
    "def custom_similarity_measure(x,y):\n",
    "    return min_translation_distance(x,y)\n",
    "    #return np.sum(abs(x-y))"
   ]
  },
  {
   "cell_type": "code",
   "execution_count": 6,
   "metadata": {},
   "outputs": [],
   "source": [
    "from scipy.spatial import distance as dist\n",
    "#### Helper functions ######\n",
    "\n",
    "# Crop a matrix according to margins of format (top, bottom, left, right)\n",
    "def crop_matrix(x, margins):\n",
    "    return x[margins[0]:x.shape[0]-margins[1],margins[2]:x.shape[1]-margins[3]]\n",
    "\n",
    "# Pad a matrix with zeros according to a margin of format (top, bottom, left, right)\n",
    "def pad_matrix(x, margins):\n",
    "    x_tilda = np.zeros((x.shape[0]+margins[0]+margins[1], x.shape[1]+margins[2]+margins[3]), dtype=int)\n",
    "    for i in range(0, x.shape[0]):\n",
    "        for j in range(0, x.shape[1]) :\n",
    "            x_tilda[i+margins[0],j+margins[2]] = x[i,j]\n",
    "    return x_tilda\n",
    "\n",
    "##### Custom similarity measure based on smallest translation distance\n",
    "# Return the smallest distance of possible translations along the vertical and horizontal axis\n",
    "# for a translation of d pixels or smaller\n",
    "# This measure is symetric as the same translations are applied to X and Y\n",
    "def min_translation_distance(x, y, d=1):\n",
    "    \n",
    "    transform_margins = []\n",
    "    for i in range(1, d+1) :\n",
    "        transform_margins.extend([[0, d, i, d-i], # horizontal translation\n",
    "                                  [i, d-i, 0, d]]) # vertical translation\n",
    "    \n",
    "    #We assume that we are working with mnist data, or else reshaping dimensions are not valid\n",
    "    if (x.size != 784) or (x.size != y.size) :\n",
    "        print(\"invalid x or y\")\n",
    "\n",
    "    #Test without translation : \n",
    "    smallest_dist = dist.correlation(x, y)\n",
    "    \n",
    "    # We pad the matrices by the distance of the translation we want to apply\n",
    "    # This ensure that we will always be comparing same size matrices\n",
    "    # and won't impact the overall distance (as MNIST numbers are already surrounded by white pixels)\n",
    "    x_padded = pad_matrix(x.reshape(28,28), [0,d,0,d])\n",
    "    y_padded = pad_matrix(y.reshape(28,28), [0,d,0,d])\n",
    "\n",
    "    #Apply translations to the x matrix and test resulting distance\n",
    "    for i in range(0, len(transform_margins)) :\n",
    "        distance = dist.correlation(crop_matrix(x_padded, transform_margins[i]).reshape(1,784), y.reshape(1,784))\n",
    "        if(distance < smallest_dist) :\n",
    "            smallest_dist = distance\n",
    "            \n",
    "    #Apply translations to the y matrix and test resulting distancee\n",
    "    for i in range(0, len(transform_margins)) :\n",
    "        distance = dist.correlation(x.reshape(1, 784), crop_matrix(y_padded, transform_margins[i]).reshape(1,784))\n",
    "        if(distance < smallest_dist) :\n",
    "            smallest_dist = distance\n",
    "    \n",
    "    # Return the smallest (optimal) distance found\n",
    "    return smallest_dist\n"
   ]
  },
  {
   "cell_type": "markdown",
   "metadata": {},
   "source": [
    "## Euclidean Distance"
   ]
  },
  {
   "cell_type": "code",
   "execution_count": 7,
   "metadata": {},
   "outputs": [],
   "source": [
    "def euclidean_similarity_measure(x, y):\n",
    "    return np.sqrt(np.dot(x,x) - 2 * np.dot(x,y) + np.dot(y,y))"
   ]
  },
  {
   "cell_type": "markdown",
   "metadata": {},
   "source": [
    "## Dissimilarity Matrix with the custom measure"
   ]
  },
  {
   "cell_type": "code",
   "execution_count": 8,
   "metadata": {},
   "outputs": [],
   "source": [
    "def generate_distance_matrix(data, distance_type):\n",
    "    nb_examples = data.shape[0]\n",
    "    distance_ndarray = np.zeros((nb_examples,nb_examples))\n",
    "    \n",
    "    for i in range(nb_examples):\n",
    "        j=0\n",
    "        while j != i:\n",
    "            if distance_type is 'euclidean':\n",
    "                euc_sim_measure = euclidean_similarity_measure(data[i],data[j])\n",
    "                distance_ndarray[i][j] = euc_sim_measure\n",
    "                distance_ndarray[j][i] = euc_sim_measure\n",
    "                \n",
    "            elif distance_type is 'custom':\n",
    "                custom_sim_measure = custom_similarity_measure(data[i],data[j])\n",
    "                distance_ndarray[i][j] = custom_sim_measure\n",
    "                distance_ndarray[j][i] = custom_sim_measure\n",
    "            else:\n",
    "                print(\"accepted values for argument 'distance_type': 'euclidean','custom'\")\n",
    "                return\n",
    "            j += 1\n",
    "    return distance_ndarray"
   ]
  },
  {
   "cell_type": "markdown",
   "metadata": {},
   "source": [
    "## Compute dissimilarity matrices on the data"
   ]
  },
  {
   "cell_type": "code",
   "execution_count": 9,
   "metadata": {
    "scrolled": false
   },
   "outputs": [],
   "source": [
    "custom_distance_matrix = generate_distance_matrix(training_inputs, 'custom')\n",
    "euclidean_distance_matrix = generate_distance_matrix(training_inputs, 'euclidean')"
   ]
  },
  {
   "cell_type": "markdown",
   "metadata": {},
   "source": [
    "## K-medoid Algorithm"
   ]
  },
  {
   "cell_type": "code",
   "execution_count": 10,
   "metadata": {
    "scrolled": false
   },
   "outputs": [
    {
     "name": "stdout",
     "output_type": "stream",
     "text": [
      "\n",
      "Euclidean distance results:\n",
      "\n",
      "Training dataset size: 50\n",
      "\n",
      "Number of medoids: 10\n",
      "Cluster mapping: [(0, 3), (1, 0), (2, 4), (3, 1), (4, 9), (5, 2), (6, 1), (7, 3), (8, 1), (9, 9)]\n",
      "Euclidean prediction score: 0.48\n",
      "Euclidean adjusted Rand Score: 0.15305505142165757\n",
      "Euclidean homogeneity: 0.4262560142614984\n",
      "Euclidean cluster completeness: 0.6802679496472186\n",
      "\n",
      "Custom distance results:\n",
      "\n",
      "Training dataset size: 50\n",
      "\n",
      "Number of medoids: 10\n",
      "Cluster mapping: [(0, 5), (1, 0), (2, 4), (3, 1), (4, 9), (5, 2), (6, 6), (7, 3), (8, 1), (9, 4)]\n",
      "Custom prediction score: 0.6\n",
      "Custom adjusted Rand score: 0.3674549363320655\n",
      "Custom homogeneity: 0.6328272321194643\n",
      "Custom cluster completeness: 0.8161953447518968\n"
     ]
    }
   ],
   "source": [
    "from sklearn import metrics\n",
    "from pyclustering.cluster.kmedoids import kmedoids\n",
    "\n",
    "K = 10\n",
    "\n",
    "# Initialization of medoids\n",
    "initial_medoids = [i for i in range(K)]\n",
    "\n",
    "def map_medoid_labels(medoids):\n",
    "    medoid_labels = []\n",
    "    for i,medoid in enumerate(medoids):\n",
    "        medoid_labels.append((i, training_targets[medoid]))\n",
    "    return medoid_labels\n",
    "    \n",
    "    \n",
    "def kmedoid_predict(medoids, distance_type):\n",
    "    predictions = []\n",
    "    # For all test inputs\n",
    "    for row in test_inputs:\n",
    "        min_arg = (404, float('inf'))\n",
    "        for medoid in medoids:\n",
    "            # Find the closest medoid\n",
    "            if distance_type is 'euclidean':\n",
    "                candidate_distance = euclidean_similarity_measure(row, training_inputs[medoid])\n",
    "            elif distance_type is 'custom':\n",
    "                candidate_distance = custom_similarity_measure(row, training_inputs[medoid])\n",
    "            if candidate_distance < min_arg[1]:\n",
    "                min_arg = (medoid, candidate_distance)\n",
    "        # Return the nearest medoid's label\n",
    "        predictions.append(training_targets[min_arg[0]])\n",
    "        ndarray_predictions = np.array(predictions).astype(int)\n",
    "    return ndarray_predictions\n",
    "\n",
    "\n",
    "def kmedoid_prediction_score(predictions):\n",
    "    error = 0\n",
    "    for i, prediction in enumerate(predictions):\n",
    "        target = test_targets[i]\n",
    "        if prediction != target:\n",
    "            error += 1\n",
    "    return 1 - error/predictions.shape[0]\n",
    "\n",
    "\n",
    "# ================ Euclidean k-Medoid ======================\n",
    "euclidean_kmedoids = kmedoids(euclidean_distance_matrix, initial_medoids, data_type='distance_matrix')\n",
    "euclidean_kmedoids.process()\n",
    "euclidean_clusters = euclidean_kmedoids.get_clusters()\n",
    "euclidean_medoids = euclidean_kmedoids.get_medoids()\n",
    "euclidean_predictions = kmedoid_predict(euclidean_medoids, 'euclidean')\n",
    "euclidean_kmedoid_score = kmedoid_prediction_score(euclidean_predictions)\n",
    "\n",
    "print('\\nEuclidean distance results:')\n",
    "print(\"\\nTraining dataset size:\", TRAINING_SIZE)\n",
    "print(\"\\nNumber of medoids:\", K)\n",
    "print(\"Cluster mapping:\", map_medoid_labels(euclidean_medoids))\n",
    "print(\"Euclidean prediction score:\", euclidean_kmedoid_score)\n",
    "print(\"Euclidean adjusted Rand Score:\",  metrics.adjusted_rand_score(test_targets, euclidean_predictions))\n",
    "print(\"Euclidean homogeneity:\", metrics.homogeneity_score(test_targets, euclidean_predictions))\n",
    "print(\"Euclidean cluster completeness:\", metrics.completeness_score(test_targets, euclidean_predictions))\n",
    "\n",
    "                             \n",
    "# ==================== Custom k-Medoid =====================\n",
    "custom_kmedoids = kmedoids(custom_distance_matrix, initial_medoids, data_type='distance_matrix')\n",
    "custom_kmedoids.process()\n",
    "custom_clusters = custom_kmedoids.get_clusters()\n",
    "custom_medoids = custom_kmedoids.get_medoids()                             \n",
    "custom_predictions = kmedoid_predict(custom_medoids, 'custom')\n",
    "custom_kmedoid_score = kmedoid_prediction_score(custom_predictions)\n",
    "\n",
    "print('\\nCustom distance results:')\n",
    "print(\"\\nTraining dataset size:\", TRAINING_SIZE)\n",
    "print(\"\\nNumber of medoids:\", K)\n",
    "print(\"Cluster mapping:\", map_medoid_labels(custom_medoids))\n",
    "print(\"Custom prediction score:\", custom_kmedoid_score)\n",
    "print(\"Custom adjusted Rand score:\",  metrics.adjusted_rand_score(test_targets, custom_predictions))\n",
    "print(\"Custom homogeneity:\", metrics.homogeneity_score(test_targets, custom_predictions))\n",
    "print(\"Custom cluster completeness:\", metrics.completeness_score(test_targets, custom_predictions))\n"
   ]
  },
  {
   "cell_type": "markdown",
   "metadata": {},
   "source": [
    "## Binary partition Algorithm"
   ]
  },
  {
   "cell_type": "code",
   "execution_count": 11,
   "metadata": {},
   "outputs": [
    {
     "name": "stdout",
     "output_type": "stream",
     "text": [
      "Euclidean build in silhouette score: 0.09919217984639267\n",
      "Euclidean custom silhouette score: 0.09919217984639267\n",
      "Custom silhouette score: 0.1969254895607735\n"
     ]
    }
   ],
   "source": [
    "from sklearn.cluster import AgglomerativeClustering as Agg\n",
    "\n",
    "euclidean_partition__builtin = Agg(10, 'euclidean', None, None, 'auto','average')\n",
    "euclidean_partition__builtin.fit(training_inputs)\n",
    "\n",
    "euclidean_partition_euclid = Agg(10,'precomputed', None, None, 'auto', 'average')\n",
    "euclidean_partition_euclid.fit(euclidean_distance_matrix)\n",
    "\n",
    "custom_partition = Agg(10, 'precomputed', None, None, 'auto', 'average')\n",
    "custom_partition.fit(custom_distance_matrix)\n",
    "\n",
    "Eu_b_score = metrics.silhouette_score(training_inputs, euclidean_partition__builtin.labels_, 'euclidean')\n",
    "Eu_c_score = metrics.silhouette_score(euclidean_distance_matrix, euclidean_partition_euclid.labels_, 'precomputed')\n",
    "Cu_score = metrics.silhouette_score(custom_distance_matrix,custom_partition.labels_, metric='precomputed')\n",
    "\n",
    "print('Euclidean build in silhouette score:', Eu_b_score)\n",
    "print('Euclidean custom silhouette score:', Eu_c_score)\n",
    "print('Custom silhouette score:', Cu_score)\n"
   ]
  },
  {
   "cell_type": "markdown",
   "metadata": {},
   "source": [
    "## PCoA  Algorithm"
   ]
  },
  {
   "cell_type": "code",
   "execution_count": 12,
   "metadata": {},
   "outputs": [],
   "source": [
    "from sklearn.manifold import MDS\n",
    "\n",
    "#PCOA avec matrice de dissimilarité euclidienne\n",
    "pcoa_euclid = MDS(n_components=2, dissimilarity='precomputed')\n",
    "euclid_transformed = pcoa_euclid.fit_transform(euclidean_distance_matrix)\n",
    "\n",
    "#PCOA avec matrice de dissimilarité custom\n",
    "pcoa_custom = MDS(n_components=2, dissimilarity='precomputed')\n",
    "custom_transformed = pcoa_custom.fit_transform(custom_distance_matrix)"
   ]
  },
  {
   "cell_type": "code",
   "execution_count": 13,
   "metadata": {},
   "outputs": [
    {
     "name": "stdout",
     "output_type": "stream",
     "text": [
      "Légende\n",
      "0  :  blue\n",
      "1  :  red\n",
      "2  :  green\n",
      "3  :  yellow\n",
      "4  :  cyan\n",
      "5  :  black\n",
      "6  :  darkorange\n",
      "7  :  lightcoral\n",
      "8  :  lime\n",
      "9  :  grey\n"
     ]
    },
    {
     "data": {
      "image/png": "[encoded data removed]",
      "text/plain": [
       "<Figure size 432x288 with 1 Axes>"
      ]
     },
     "metadata": {
      "needs_background": "light"
     },
     "output_type": "display_data"
    },
    {
     "data": {
      "image/png": "[encoded data removed]",
      "text/plain": [
       "<Figure size 432x288 with 1 Axes>"
      ]
     },
     "metadata": {
      "needs_background": "light"
     },
     "output_type": "display_data"
    },
    {
     "name": "stdout",
     "output_type": "stream",
     "text": [
      "Goodness-of-Fit for PCoA with eucliedian distance:       0.24045270562536641\n",
      "Goodness-of-Fit for PCoA with custom similarity mesure:  0.21426427751294727\n",
      "\n",
      "Best goodness-of-Fit:  PCoA with custom similarity mesure\n"
     ]
    }
   ],
   "source": [
    "colors = ['blue', 'red', 'green', 'yellow', 'cyan', 'black', 'darkorange', 'lightcoral', 'lime', 'grey']\n",
    "\n",
    "def extract_data_by_label(inputs, targets, label) :\n",
    "    return(inputs[np.where(targets[:] == label)[0], :])\n",
    "    \n",
    "def plot_graph_by_labels(inputs, targets, title, colors) :\n",
    "    for i in range(0, 10) :\n",
    "            extracted = extract_data_by_label(inputs, targets, i)\n",
    "            plt.scatter(extracted[:,0], extracted[:,1], 50, colors[i])\n",
    "    pylab.xlabel('x')\n",
    "    pylab.ylabel('y')\n",
    "    plt.title(title)\n",
    "    plt.show()\n",
    "    \n",
    "print('Légende')\n",
    "for i in range(0, len(colors)) :\n",
    "    print(i, ' : ', colors[i])\n",
    "    \n",
    "plot_graph_by_labels(euclid_transformed, training_targets, 'MNIST dans l\\'espace 2D avec PCoA euclidien', colors)\n",
    "plot_graph_by_labels(custom_transformed, training_targets, 'MNIST dans l\\'espace 2D avec PCoA custom', colors)\n",
    "\n",
    "# Mesures de performance utilisée :  \n",
    "# Nous utilisons la racine de l'erreur de moindre carrée (différence entre la distance de la matrice de dissimilarité et de la distance \n",
    "# prédite par le modèle MDS, divisée par la somme au carrée des distances de la matrice de dissimilarité)\n",
    "# Cette valeur représente le stress, qui permet de quantifer si le modèle fitent avec les données. \n",
    "# Plus la valeur est proche de 0, plus le modèle représente les données.\n",
    "\n",
    "# Pour plus d'information, voir le Chaptitre 435 de Multidimensional Scaling, page 435-3\n",
    "# https://ncss-wpengine.netdna-ssl.com/wp-content/themes/ncss/pdf/Procedures/NCSS/Multidimensional_Scaling.pdf\n",
    "goodness_eucl = np.sqrt(pcoa_euclid.stress_/np.square(euclidean_distance_matrix).sum())\n",
    "goodness_custom = np.sqrt(pcoa_custom.stress_/np.square(custom_distance_matrix).sum())\n",
    "print(\"Goodness-of-Fit for PCoA with eucliedian distance:      \", goodness_eucl)\n",
    "print(\"Goodness-of-Fit for PCoA with custom similarity mesure: \", goodness_custom)\n",
    "\n",
    "print(\"\\nBest goodness-of-Fit: \", \"PCoA with eucliedian distance\" if min(goodness_eucl, goodness_custom) == goodness_eucl else \"PCoA with custom similarity mesure\")"
   ]
  },
  {
   "cell_type": "markdown",
   "metadata": {},
   "source": [
    "## ISOMAP Algorithm"
   ]
  },
  {
   "cell_type": "code",
   "execution_count": 14,
   "metadata": {},
   "outputs": [
    {
     "name": "stdout",
     "output_type": "stream",
     "text": [
      "Légende\n",
      "0  :  blue\n",
      "1  :  red\n",
      "2  :  green\n",
      "3  :  yellow\n",
      "4  :  cyan\n",
      "5  :  black\n",
      "6  :  darkorange\n",
      "7  :  lightcoral\n",
      "8  :  lime\n",
      "9  :  grey\n"
     ]
    },
    {
     "data": {
      "image/png": "[encoded data removed]",
      "text/plain": [
       "<Figure size 1080x720 with 1 Axes>"
      ]
     },
     "metadata": {
      "needs_background": "light"
     },
     "output_type": "display_data"
    },
    {
     "data": {
      "image/png": "[encoded data removed]",
      "text/plain": [
       "<Figure size 1440x720 with 1 Axes>"
      ]
     },
     "metadata": {
      "needs_background": "light"
     },
     "output_type": "display_data"
    },
    {
     "name": "stdout",
     "output_type": "stream",
     "text": [
      "Goodness-of-Fit for ISOMAP with eucliedian distance:       0.22253072332905618\n",
      "Goodness-of-Fit for ISOMAP with custom similarity mesure:  0.20614732343288975\n",
      "\n",
      "Best goodness-of-Fit:  ISOMAP with custom similarity mesure\n"
     ]
    }
   ],
   "source": [
    "import numpy as np\n",
    "from sklearn.manifold import MDS\n",
    "\n",
    "# inf est fixé à 999999999, car math.inf provoque des overflow dans les calculs matriciels plus bas.\n",
    "inf = 999999999\n",
    "\n",
    "# Hyperparamètres choisis par l'utilisateur, représentant le rayon max de la distance\n",
    "rayon_eucliedian = 0.90*np.max(euclidean_distance_matrix)\n",
    "rayon_custom = 0.90*np.max(custom_distance_matrix)\n",
    "\n",
    "def isomap_ray(distance_matrix, ray):\n",
    "    \n",
    "    new_distance_matrix = np.zeros(distance_matrix.shape)\n",
    "    \n",
    "    for i in range(distance_matrix.shape[0]):\n",
    "        for j in range(distance_matrix.shape[1]):\n",
    "            if distance_matrix[i][j] > ray:\n",
    "                new_distance_matrix[i][j] = inf\n",
    "            else:\n",
    "                new_distance_matrix[i][j] = distance_matrix[i][j]\n",
    "        \n",
    "    return new_distance_matrix\n",
    "  \n",
    "# La base de l'algorythme de floyd_warshall provient de mosco (https://gist.github.com/mosco/11178777). L'algorythme\n",
    "# a été adapté par notre équipe afin qu'il fonctionne avec le contexte du problème demandé\n",
    "def floyd_warshall(adjacency_matrix): \n",
    "    \n",
    "    mat = np.asarray(adjacency_matrix)\n",
    "    n = mat.shape[0]\n",
    "\n",
    "    for k in range(n):\n",
    "        for i in range(n):\n",
    "            mat[i,:] = np.minimum(mat[i,:], mat[i,k] + mat[k,:]) \n",
    "            \n",
    "    return mat\n",
    "\n",
    "isomap_eucl_dissimilarity_matrix = floyd_warshall((isomap_ray(euclidean_distance_matrix, rayon_eucliedian)).copy())\n",
    "isomap_custom_dissimilarity_matrix = floyd_warshall((isomap_ray(custom_distance_matrix, rayon_custom)).copy())\n",
    "\n",
    "isomap_pcoa_custom = MDS(n_components=2, dissimilarity='precomputed')\n",
    "eucl_pcoa_custom = MDS(n_components=2, dissimilarity='precomputed')\n",
    "\n",
    "isomap_custom_transformed = isomap_pcoa_custom.fit_transform(isomap_custom_dissimilarity_matrix)\n",
    "eucl_custom_transformed = eucl_pcoa_custom.fit_transform(isomap_eucl_dissimilarity_matrix)\n",
    "\n",
    "print('Légende')\n",
    "for i in range(0, len(colors)) :\n",
    "    print(i, ' : ', colors[i])\n",
    "\n",
    "plt.figure(figsize=(15,10))\n",
    "plot_graph_by_labels(eucl_custom_transformed, training_targets, \"MNIST dans l\\'espace 2D avec isomap et mesure de similarité eucliedienne\",colors)\n",
    "\n",
    "plt.figure(figsize=(20,10))\n",
    "plot_graph_by_labels(isomap_custom_transformed, training_targets, \"MNIST dans l\\'espace 2D avec isomap et mesure de similarité custom\",colors)\n",
    "\n",
    "# Mesures de performance utilisée :  \n",
    "# Nous utilisons la racine de l'erreur de moindre carrée (différence entre la distance de la matrice de dissimilarité et de la distance \n",
    "# prédite par le modèle MDS, divisée par la somme au carrée des distances de la matrice de dissimilarité)\n",
    "# Cette valeur représente le stress, qui permet de quantifer si le modèle fitent avec les données. \n",
    "# Plus la valeur est proche de 0, plus le modèle représente les données.\n",
    "\n",
    "# Pour plus d'information, voir le Chaptitre 435 de Multidimensional Scaling, page 435-3\n",
    "# https://ncss-wpengine.netdna-ssl.com/wp-content/themes/ncss/pdf/Procedures/NCSS/Multidimensional_Scaling.pdf\n",
    "goodness_isomap_eucl = np.sqrt(eucl_pcoa_custom.stress_/np.square(isomap_eucl_dissimilarity_matrix).sum())\n",
    "goodness_isomap_custom = np.sqrt(isomap_pcoa_custom.stress_/np.square(isomap_custom_dissimilarity_matrix).sum())\n",
    "print(\"Goodness-of-Fit for ISOMAP with eucliedian distance:      \", goodness_isomap_eucl)\n",
    "print(\"Goodness-of-Fit for ISOMAP with custom similarity mesure: \", goodness_isomap_custom)\n",
    "\n",
    "print(\"\\nBest goodness-of-Fit: \", \"ISOMAP with eucliedian distance\" if min(goodness_isomap_eucl, goodness_isomap_custom) == goodness_isomap_eucl else \"ISOMAP with custom similarity mesure\")\n"
   ]
  },
  {
   "cell_type": "markdown",
   "metadata": {},
   "source": [
    "## K Nearest Neighbors Algorithm"
   ]
  },
  {
   "cell_type": "code",
   "execution_count": 15,
   "metadata": {},
   "outputs": [
    {
     "name": "stdout",
     "output_type": "stream",
     "text": [
      "Training dataset size: 50\n",
      "Neighbours taken into account: 5\n",
      "Euclidean score: 0.6\n",
      "Custom score: 0.6\n"
     ]
    }
   ],
   "source": [
    "from sklearn.neighbors import KNeighborsClassifier\n",
    "from sklearn.neighbors import BallTree\n",
    "from sklearn.metrics import accuracy_score\n",
    "\n",
    "neighbourinos = 5\n",
    "\n",
    "KNN_euclid = KNeighborsClassifier(n_neighbors=neighbourinos,  metric='euclidean')\n",
    "KNN_custom = KNeighborsClassifier(n_neighbors=neighbourinos, algorithm='ball_tree', metric=custom_similarity_measure)\n",
    "\n",
    "KNN_euclid.fit(training_inputs, training_targets)\n",
    "KNN_custom.fit(training_inputs, training_targets)\n",
    "\n",
    "score_euclid = accuracy_score(KNN_euclid.predict(test_inputs), test_targets)\n",
    "score_custom = accuracy_score(KNN_custom.predict(test_inputs), test_targets)\n",
    "\n",
    "print(\"Training dataset size:\", TRAINING_SIZE)\n",
    "print(\"Neighbours taken into account:\", neighbourinos)\n",
    "print(\"Euclidean score:\", score_euclid)\n",
    "print(\"Custom score:\", score_custom)"
   ]
  },
  {
   "cell_type": "code",
   "execution_count": null,
   "metadata": {},
   "outputs": [],
   "source": []
  }
 ],
 "metadata": {
  "kernelspec": {
   "display_name": "Python 3",
   "language": "python",
   "name": "python3"
  },
  "language_info": {
   "codemirror_mode": {
    "name": "ipython",
    "version": 3
   },
   "file_extension": ".py",
   "mimetype": "text/x-python",
   "name": "python",
   "nbconvert_exporter": "python",
   "pygments_lexer": "ipython3",
   "version": "3.7.0"
  }
 },
 "nbformat": 4,
 "nbformat_minor": 2
}
